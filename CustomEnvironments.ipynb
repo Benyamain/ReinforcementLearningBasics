{
 "cells": [
  {
   "cell_type": "markdown",
   "id": "18f562cd",
   "metadata": {},
   "source": [
    "# Dependencies"
   ]
  },
  {
   "cell_type": "code",
   "execution_count": 1,
   "id": "d0a1d3a4",
   "metadata": {},
   "outputs": [],
   "source": [
    "import gym\n",
    "from gym import Env\n",
    "from gym.spaces import Discrete, Box, Dict, Tuple, MultiBinary, MultiDiscrete\n",
    "\n",
    "import numpy as np\n",
    "import random\n",
    "import os\n",
    "\n",
    "from stable_baselines3 import PPO\n",
    "from stable_baselines3.common.vec_env import DummyVecEnv\n",
    "from stable_baselines3.common.evaluation import evaluate_policy"
   ]
  },
  {
   "cell_type": "markdown",
   "id": "7df1ca78",
   "metadata": {},
   "source": [
    "# Types of Spaces"
   ]
  },
  {
   "cell_type": "code",
   "execution_count": 7,
   "id": "003ac61d",
   "metadata": {},
   "outputs": [
    {
     "data": {
      "text/plain": [
       "2"
      ]
     },
     "execution_count": 7,
     "metadata": {},
     "output_type": "execute_result"
    }
   ],
   "source": [
    "# 0, 1, 2\n",
    "Discrete(3).sample()"
   ]
  },
  {
   "cell_type": "code",
   "execution_count": 10,
   "id": "ba8d34c9",
   "metadata": {},
   "outputs": [
    {
     "data": {
      "text/plain": [
       "array([[0.11172476, 0.13338836, 0.675468  ],\n",
       "       [0.09634547, 0.6680662 , 0.38782513],\n",
       "       [0.8826869 , 0.14965059, 0.20709646]], dtype=float32)"
      ]
     },
     "execution_count": 10,
     "metadata": {},
     "output_type": "execute_result"
    }
   ],
   "source": [
    "# An array 3 x 3 (an array that contains 3 arrays with each array containing 3 values)\n",
    "# 0 and 1 are the lower and upper values (the range of where the values will lie)\n",
    "Box(0,1,shape=(3,3)).sample()"
   ]
  },
  {
   "cell_type": "code",
   "execution_count": 25,
   "id": "8fa28abc",
   "metadata": {},
   "outputs": [
    {
     "data": {
      "text/plain": [
       "(1,\n",
       " array([[0.72381985, 0.75307155, 0.836142  ],\n",
       "        [0.75173223, 0.91596746, 0.18010943],\n",
       "        [0.66017056, 0.07019453, 0.7298493 ]], dtype=float32),\n",
       " array([1, 0, 0, 1], dtype=int8))"
      ]
     },
     "execution_count": 25,
     "metadata": {},
     "output_type": "execute_result"
    }
   ],
   "source": [
    "# Wrapper 1 that brings spaces together\n",
    "Tuple((Discrete(3), Box(0,1,shape=(3,3)), MultiBinary(4))).sample()"
   ]
  },
  {
   "cell_type": "code",
   "execution_count": 20,
   "id": "1f130d14",
   "metadata": {},
   "outputs": [
    {
     "data": {
      "text/plain": [
       "OrderedDict([('height', 1), ('speed', array([19.978773], dtype=float32))])"
      ]
     },
     "execution_count": 20,
     "metadata": {},
     "output_type": "execute_result"
    }
   ],
   "source": [
    "# Wrapper 2 that brings spaces together\n",
    "Dict({'height':Discrete(2), 'speed':Box(0,100,shape=(1,))}).sample()"
   ]
  },
  {
   "cell_type": "code",
   "execution_count": 17,
   "id": "5f01c797",
   "metadata": {},
   "outputs": [
    {
     "data": {
      "text/plain": [
       "array([1, 1, 0, 1], dtype=int8)"
      ]
     },
     "execution_count": 17,
     "metadata": {},
     "output_type": "execute_result"
    }
   ],
   "source": [
    "# Contains 4 positions\n",
    "MultiBinary(4).sample()"
   ]
  },
  {
   "cell_type": "code",
   "execution_count": 19,
   "id": "3c31c642",
   "metadata": {},
   "outputs": [
    {
     "data": {
      "text/plain": [
       "array([2, 1, 0], dtype=int64)"
      ]
     },
     "execution_count": 19,
     "metadata": {},
     "output_type": "execute_result"
    }
   ],
   "source": [
    "MultiDiscrete([5,2,2]).sample()"
   ]
  },
  {
   "cell_type": "markdown",
   "id": "3e7470a1",
   "metadata": {},
   "source": [
    "# Building Environment"
   ]
  },
  {
   "cell_type": "markdown",
   "id": "f6434db5",
   "metadata": {},
   "source": [
    "# Testing the Environment"
   ]
  },
  {
   "cell_type": "markdown",
   "id": "70818b8c",
   "metadata": {},
   "source": [
    "# Train the Model"
   ]
  },
  {
   "cell_type": "markdown",
   "id": "c90e48ee",
   "metadata": {},
   "source": [
    "# Save the Model"
   ]
  }
 ],
 "metadata": {
  "kernelspec": {
   "display_name": "Python 3 (ipykernel)",
   "language": "python",
   "name": "python3"
  },
  "language_info": {
   "codemirror_mode": {
    "name": "ipython",
    "version": 3
   },
   "file_extension": ".py",
   "mimetype": "text/x-python",
   "name": "python",
   "nbconvert_exporter": "python",
   "pygments_lexer": "ipython3",
   "version": "3.10.9"
  }
 },
 "nbformat": 4,
 "nbformat_minor": 5
}
